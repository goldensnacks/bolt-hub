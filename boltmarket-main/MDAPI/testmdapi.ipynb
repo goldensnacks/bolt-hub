{
 "cells": [
  {
   "cell_type": "code",
   "execution_count": 14,
   "outputs": [],
   "source": [
    "from importlib import reload\n",
    "import underlier\n",
    "reload(underlier)\n",
    "from underlier import ibkrSource\n",
    "from ibapi.ticktype import TickTypeEnum\n",
    "from ibapi.client import EClient\n",
    "from ibapi.wrapper import EWrapper\n",
    "from ibapi.contract import Contract\n",
    "import threading\n",
    "import time"
   ],
   "metadata": {
    "collapsed": false
   }
  },
  {
   "cell_type": "code",
   "execution_count": null,
   "outputs": [],
   "source": [
    "\n",
    "class IBapi(EWrapper, EClient):\n",
    "\tdef __init__(self):\n",
    "\t\tself.app = IBapi()\n",
    "\t\tEClient.__init__(self, self)\n",
    "\tdef tickPrice(self, reqId, tickType, price, attrib):\n",
    "\t\tif tickType == 2 and reqId == 1:\n",
    "\t\t\tprint('The current ask price is: ', price)\n",
    "    def run_loop():\n",
    "\t    self.app.run()\n",
    "\n",
    "\n",
    "\n",
    "app.connect('127.0.0.1', 7496, 123)\n",
    "#Start the socket in a thread\n",
    "api_thread = threading.Thread(target=run_loop, daemon=True)\n",
    "api_thread.start()\n",
    "\n",
    "time.sleep(1) #Sleep interval to allow time for connection to server\n",
    "\n",
    "#Create contract object\n",
    "apple_contract = Contract()\n",
    "apple_contract.symbol = 'SPY'\n",
    "apple_contract.secType = 'STK'\n",
    "apple_contract.exchange = 'SMART'\n",
    "apple_contract.currency = 'USD'\n",
    "\n",
    "#Request Market Data\n",
    "app.reqMktData(1, apple_contract, '', False, False, [])\n",
    "\n",
    "time.sleep(10) #Sleep interval to allow time for incoming price data\n",
    "app.disconnect()\n"
   ],
   "metadata": {
    "collapsed": false
   }
  },
  {
   "cell_type": "code",
   "execution_count": 30,
   "outputs": [
    {
     "name": "stdout",
     "output_type": "stream",
     "text": [
      "BID_SIZE 0\n",
      "BID 1\n",
      "ASK 2\n",
      "ASK_SIZE 3\n",
      "LAST 4\n",
      "LAST_SIZE 5\n",
      "HIGH 6\n",
      "LOW 7\n",
      "VOLUME 8\n",
      "CLOSE 9\n",
      "BID_OPTION_COMPUTATION 10\n",
      "ASK_OPTION_COMPUTATION 11\n",
      "LAST_OPTION_COMPUTATION 12\n",
      "MODEL_OPTION 13\n",
      "OPEN 14\n",
      "LOW_13_WEEK 15\n",
      "HIGH_13_WEEK 16\n",
      "LOW_26_WEEK 17\n",
      "HIGH_26_WEEK 18\n",
      "LOW_52_WEEK 19\n",
      "HIGH_52_WEEK 20\n",
      "AVG_VOLUME 21\n",
      "OPEN_INTEREST 22\n",
      "OPTION_HISTORICAL_VOL 23\n",
      "OPTION_IMPLIED_VOL 24\n",
      "OPTION_BID_EXCH 25\n",
      "OPTION_ASK_EXCH 26\n",
      "OPTION_CALL_OPEN_INTEREST 27\n",
      "OPTION_PUT_OPEN_INTEREST 28\n",
      "OPTION_CALL_VOLUME 29\n",
      "OPTION_PUT_VOLUME 30\n",
      "INDEX_FUTURE_PREMIUM 31\n",
      "BID_EXCH 32\n",
      "ASK_EXCH 33\n",
      "AUCTION_VOLUME 34\n",
      "AUCTION_PRICE 35\n",
      "AUCTION_IMBALANCE 36\n",
      "MARK_PRICE 37\n",
      "BID_EFP_COMPUTATION 38\n",
      "ASK_EFP_COMPUTATION 39\n",
      "LAST_EFP_COMPUTATION 40\n",
      "OPEN_EFP_COMPUTATION 41\n",
      "HIGH_EFP_COMPUTATION 42\n",
      "LOW_EFP_COMPUTATION 43\n",
      "CLOSE_EFP_COMPUTATION 44\n",
      "LAST_TIMESTAMP 45\n",
      "SHORTABLE 46\n",
      "FUNDAMENTAL_RATIOS 47\n",
      "RT_VOLUME 48\n",
      "HALTED 49\n",
      "BID_YIELD 50\n",
      "ASK_YIELD 51\n",
      "LAST_YIELD 52\n",
      "CUST_OPTION_COMPUTATION 53\n",
      "TRADE_COUNT 54\n",
      "TRADE_RATE 55\n",
      "VOLUME_RATE 56\n",
      "LAST_RTH_TRADE 57\n",
      "RT_HISTORICAL_VOL 58\n",
      "IB_DIVIDENDS 59\n",
      "BOND_FACTOR_MULTIPLIER 60\n",
      "REGULATORY_IMBALANCE 61\n",
      "NEWS_TICK 62\n",
      "SHORT_TERM_VOLUME_3_MIN 63\n",
      "SHORT_TERM_VOLUME_5_MIN 64\n",
      "SHORT_TERM_VOLUME_10_MIN 65\n",
      "DELAYED_BID 66\n",
      "DELAYED_ASK 67\n",
      "DELAYED_LAST 68\n",
      "DELAYED_BID_SIZE 69\n",
      "DELAYED_ASK_SIZE 70\n",
      "DELAYED_LAST_SIZE 71\n",
      "DELAYED_HIGH 72\n",
      "DELAYED_LOW 73\n",
      "DELAYED_VOLUME 74\n",
      "DELAYED_CLOSE 75\n",
      "DELAYED_OPEN 76\n",
      "RT_TRD_VOLUME 77\n",
      "CREDITMAN_MARK_PRICE 78\n",
      "CREDITMAN_SLOW_MARK_PRICE 79\n",
      "DELAYED_BID_OPTION 80\n",
      "DELAYED_ASK_OPTION 81\n",
      "DELAYED_LAST_OPTION 82\n",
      "DELAYED_MODEL_OPTION 83\n",
      "LAST_EXCH 84\n",
      "LAST_REG_TIME 85\n",
      "FUTURES_OPEN_INTEREST 86\n",
      "AVG_OPT_VOLUME 87\n",
      "DELAYED_LAST_TIMESTAMP 88\n",
      "SHORTABLE_SHARES 89\n",
      "DELAYED_HALTED 90\n"
     ]
    }
   ],
   "source": [
    "for i in range(91):\n",
    "\tprint(TickTypeEnum.to_str(i), i)\n"
   ],
   "metadata": {
    "collapsed": false
   }
  },
  {
   "cell_type": "code",
   "execution_count": 28,
   "outputs": [
    {
     "data": {
      "text/plain": "90"
     },
     "execution_count": 28,
     "metadata": {},
     "output_type": "execute_result"
    }
   ],
   "source": [
    "i"
   ],
   "metadata": {
    "collapsed": false
   }
  }
 ],
 "metadata": {
  "kernelspec": {
   "display_name": "Python 3",
   "language": "python",
   "name": "python3"
  },
  "language_info": {
   "codemirror_mode": {
    "name": "ipython",
    "version": 2
   },
   "file_extension": ".py",
   "mimetype": "text/x-python",
   "name": "python",
   "nbconvert_exporter": "python",
   "pygments_lexer": "ipython2",
   "version": "2.7.6"
  }
 },
 "nbformat": 4,
 "nbformat_minor": 0
}
