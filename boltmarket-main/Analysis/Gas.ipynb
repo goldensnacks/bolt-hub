{
 "cells": [
  {
   "cell_type": "code",
   "execution_count": 79,
   "outputs": [],
   "source": [
    "import pandas as pd\n",
    "import numpy as np\n",
    "import matplotlib.pyplot as plt\n",
    "from datetime import datetime\n",
    "\n",
    "def nearest_date(target_date, date_series):\n",
    "    \"\"\"\n",
    "    Find the date in the series that is closest to the target date.\n",
    "\n",
    "    Args:\n",
    "      target_date (str): A string representation of the target date in the format 'YYYY-MM-DD'.\n",
    "      date_series (list[str]): A list of string representations of dates in the same format.\n",
    "\n",
    "    Returns:\n",
    "      str: The date in the series that is closest to the target date.\n",
    "    \"\"\"\n",
    "    target_datetime = datetime.strptime(target_date, '%Y-%m-%d')\n",
    "    date_differences = [(datetime.strptime(date, '%Y-%m-%d') - target_datetime).days for date in date_series]\n",
    "    closest_index = min(range(len(date_differences)), key=lambda i: abs(date_differences[i]))\n",
    "    return date_series[closest_index]\n"
   ],
   "metadata": {
    "collapsed": false
   }
  },
  {
   "cell_type": "code",
   "execution_count": 82,
   "outputs": [
    {
     "name": "stderr",
     "output_type": "stream",
     "text": [
      "pydev debugger: Unable to find real location for: <string>\n",
      "pydev debugger: Unable to find real location for: <frozen _collections_abc>\n",
      "pydev debugger: Unable to find real location for: <frozen os>\n",
      "pydev debugger: Unable to find real location for: C:\\Users\\jacob\\AppData\\Local\\Temp\\ipykernel_16428\\1773942144.py\n",
      "pydev debugger: Unable to find real location for: <frozen importlib._bootstrap_external>\n",
      "pydev debugger: Unable to find real location for: <frozen posixpath>\n",
      "pydev debugger: Unable to find real location for: <__array_function__ internals>\n",
      "pydev debugger: Unable to find real location for: C:\\Users\\jacob\\AppData\\Local\\Temp\\ipykernel_16428\\4288774786.py\n"
     ]
    },
    {
     "ename": "TypeError",
     "evalue": "strptime() argument 1 must be str, not float",
     "output_type": "error",
     "traceback": [
      "\u001B[1;31m---------------------------------------------------------------------------\u001B[0m",
      "\u001B[1;31mTypeError\u001B[0m                                 Traceback (most recent call last)",
      "Cell \u001B[1;32mIn[82], line 9\u001B[0m\n\u001B[0;32m      6\u001B[0m cpi \u001B[38;5;241m=\u001B[39m cpi\u001B[38;5;241m.\u001B[39mresample(\u001B[38;5;124m'\u001B[39m\u001B[38;5;124mW\u001B[39m\u001B[38;5;124m'\u001B[39m)\u001B[38;5;241m.\u001B[39minterpolate()\n\u001B[0;32m      8\u001B[0m \u001B[38;5;124;03m\"\"\"inflation adjust gas prices with nearest cpi\"\"\"\u001B[39;00m\n\u001B[1;32m----> 9\u001B[0m gas[\u001B[38;5;124m'\u001B[39m\u001B[38;5;124minflation adjusted\u001B[39m\u001B[38;5;124m'\u001B[39m] \u001B[38;5;241m=\u001B[39m gas[\u001B[38;5;124m'\u001B[39m\u001B[38;5;124mWeekly U.S. All Grades Conventional Retail Gasoline Prices Dollars per Gallon\u001B[39m\u001B[38;5;124m'\u001B[39m]\u001B[38;5;241m.\u001B[39mdiv(\u001B[43mcpi\u001B[49m\u001B[43m[\u001B[49m\u001B[38;5;124;43m'\u001B[39;49m\u001B[38;5;124;43mCPIAUCSL\u001B[39;49m\u001B[38;5;124;43m'\u001B[39;49m\u001B[43m]\u001B[49m\u001B[38;5;241;43m.\u001B[39;49m\u001B[43mapply\u001B[49m\u001B[43m(\u001B[49m\u001B[38;5;28;43;01mlambda\u001B[39;49;00m\u001B[43m \u001B[49m\u001B[43mx\u001B[49m\u001B[43m:\u001B[49m\u001B[43m \u001B[49m\u001B[43mcpi\u001B[49m\u001B[43m[\u001B[49m\u001B[38;5;124;43m'\u001B[39;49m\u001B[38;5;124;43mCPIAUCSL\u001B[39;49m\u001B[38;5;124;43m'\u001B[39;49m\u001B[43m]\u001B[49m\u001B[38;5;241;43m.\u001B[39;49m\u001B[43mloc\u001B[49m\u001B[43m[\u001B[49m\u001B[43mnearest_date\u001B[49m\u001B[43m(\u001B[49m\u001B[43mx\u001B[49m\u001B[43m,\u001B[49m\u001B[43m \u001B[49m\u001B[43mcpi\u001B[49m\u001B[38;5;241;43m.\u001B[39;49m\u001B[43mindex\u001B[49m\u001B[43m)\u001B[49m\u001B[43m]\u001B[49m\u001B[43m)\u001B[49m)\n",
      "File \u001B[1;32m~\\AppData\\Local\\Programs\\Python\\Python311\\Lib\\site-packages\\pandas\\core\\series.py:4771\u001B[0m, in \u001B[0;36mSeries.apply\u001B[1;34m(self, func, convert_dtype, args, **kwargs)\u001B[0m\n\u001B[0;32m   4661\u001B[0m \u001B[38;5;28;01mdef\u001B[39;00m \u001B[38;5;21mapply\u001B[39m(\n\u001B[0;32m   4662\u001B[0m     \u001B[38;5;28mself\u001B[39m,\n\u001B[0;32m   4663\u001B[0m     func: AggFuncType,\n\u001B[1;32m   (...)\u001B[0m\n\u001B[0;32m   4666\u001B[0m     \u001B[38;5;241m*\u001B[39m\u001B[38;5;241m*\u001B[39mkwargs,\n\u001B[0;32m   4667\u001B[0m ) \u001B[38;5;241m-\u001B[39m\u001B[38;5;241m>\u001B[39m DataFrame \u001B[38;5;241m|\u001B[39m Series:\n\u001B[0;32m   4668\u001B[0m     \u001B[38;5;124;03m\"\"\"\u001B[39;00m\n\u001B[0;32m   4669\u001B[0m \u001B[38;5;124;03m    Invoke function on values of Series.\u001B[39;00m\n\u001B[0;32m   4670\u001B[0m \n\u001B[1;32m   (...)\u001B[0m\n\u001B[0;32m   4769\u001B[0m \u001B[38;5;124;03m    dtype: float64\u001B[39;00m\n\u001B[0;32m   4770\u001B[0m \u001B[38;5;124;03m    \"\"\"\u001B[39;00m\n\u001B[1;32m-> 4771\u001B[0m     \u001B[38;5;28;01mreturn\u001B[39;00m \u001B[43mSeriesApply\u001B[49m\u001B[43m(\u001B[49m\u001B[38;5;28;43mself\u001B[39;49m\u001B[43m,\u001B[49m\u001B[43m \u001B[49m\u001B[43mfunc\u001B[49m\u001B[43m,\u001B[49m\u001B[43m \u001B[49m\u001B[43mconvert_dtype\u001B[49m\u001B[43m,\u001B[49m\u001B[43m \u001B[49m\u001B[43margs\u001B[49m\u001B[43m,\u001B[49m\u001B[43m \u001B[49m\u001B[43mkwargs\u001B[49m\u001B[43m)\u001B[49m\u001B[38;5;241;43m.\u001B[39;49m\u001B[43mapply\u001B[49m\u001B[43m(\u001B[49m\u001B[43m)\u001B[49m\n",
      "File \u001B[1;32m~\\AppData\\Local\\Programs\\Python\\Python311\\Lib\\site-packages\\pandas\\core\\apply.py:1105\u001B[0m, in \u001B[0;36mSeriesApply.apply\u001B[1;34m(self)\u001B[0m\n\u001B[0;32m   1102\u001B[0m     \u001B[38;5;28;01mreturn\u001B[39;00m \u001B[38;5;28mself\u001B[39m\u001B[38;5;241m.\u001B[39mapply_str()\n\u001B[0;32m   1104\u001B[0m \u001B[38;5;66;03m# self.f is Callable\u001B[39;00m\n\u001B[1;32m-> 1105\u001B[0m \u001B[38;5;28;01mreturn\u001B[39;00m \u001B[38;5;28;43mself\u001B[39;49m\u001B[38;5;241;43m.\u001B[39;49m\u001B[43mapply_standard\u001B[49m\u001B[43m(\u001B[49m\u001B[43m)\u001B[49m\n",
      "File \u001B[1;32m~\\AppData\\Local\\Programs\\Python\\Python311\\Lib\\site-packages\\pandas\\core\\apply.py:1156\u001B[0m, in \u001B[0;36mSeriesApply.apply_standard\u001B[1;34m(self)\u001B[0m\n\u001B[0;32m   1154\u001B[0m     \u001B[38;5;28;01melse\u001B[39;00m:\n\u001B[0;32m   1155\u001B[0m         values \u001B[38;5;241m=\u001B[39m obj\u001B[38;5;241m.\u001B[39mastype(\u001B[38;5;28mobject\u001B[39m)\u001B[38;5;241m.\u001B[39m_values\n\u001B[1;32m-> 1156\u001B[0m         mapped \u001B[38;5;241m=\u001B[39m \u001B[43mlib\u001B[49m\u001B[38;5;241;43m.\u001B[39;49m\u001B[43mmap_infer\u001B[49m\u001B[43m(\u001B[49m\n\u001B[0;32m   1157\u001B[0m \u001B[43m            \u001B[49m\u001B[43mvalues\u001B[49m\u001B[43m,\u001B[49m\n\u001B[0;32m   1158\u001B[0m \u001B[43m            \u001B[49m\u001B[43mf\u001B[49m\u001B[43m,\u001B[49m\n\u001B[0;32m   1159\u001B[0m \u001B[43m            \u001B[49m\u001B[43mconvert\u001B[49m\u001B[38;5;241;43m=\u001B[39;49m\u001B[38;5;28;43mself\u001B[39;49m\u001B[38;5;241;43m.\u001B[39;49m\u001B[43mconvert_dtype\u001B[49m\u001B[43m,\u001B[49m\n\u001B[0;32m   1160\u001B[0m \u001B[43m        \u001B[49m\u001B[43m)\u001B[49m\n\u001B[0;32m   1162\u001B[0m \u001B[38;5;28;01mif\u001B[39;00m \u001B[38;5;28mlen\u001B[39m(mapped) \u001B[38;5;129;01mand\u001B[39;00m \u001B[38;5;28misinstance\u001B[39m(mapped[\u001B[38;5;241m0\u001B[39m], ABCSeries):\n\u001B[0;32m   1163\u001B[0m     \u001B[38;5;66;03m# GH#43986 Need to do list(mapped) in order to get treated as nested\u001B[39;00m\n\u001B[0;32m   1164\u001B[0m     \u001B[38;5;66;03m#  See also GH#25959 regarding EA support\u001B[39;00m\n\u001B[0;32m   1165\u001B[0m     \u001B[38;5;28;01mreturn\u001B[39;00m obj\u001B[38;5;241m.\u001B[39m_constructor_expanddim(\u001B[38;5;28mlist\u001B[39m(mapped), index\u001B[38;5;241m=\u001B[39mobj\u001B[38;5;241m.\u001B[39mindex)\n",
      "File \u001B[1;32m~\\AppData\\Local\\Programs\\Python\\Python311\\Lib\\site-packages\\pandas\\_libs\\lib.pyx:2918\u001B[0m, in \u001B[0;36mpandas._libs.lib.map_infer\u001B[1;34m()\u001B[0m\n",
      "Cell \u001B[1;32mIn[82], line 9\u001B[0m, in \u001B[0;36m<lambda>\u001B[1;34m(x)\u001B[0m\n\u001B[0;32m      6\u001B[0m cpi \u001B[38;5;241m=\u001B[39m cpi\u001B[38;5;241m.\u001B[39mresample(\u001B[38;5;124m'\u001B[39m\u001B[38;5;124mW\u001B[39m\u001B[38;5;124m'\u001B[39m)\u001B[38;5;241m.\u001B[39minterpolate()\n\u001B[0;32m      8\u001B[0m \u001B[38;5;124;03m\"\"\"inflation adjust gas prices with nearest cpi\"\"\"\u001B[39;00m\n\u001B[1;32m----> 9\u001B[0m gas[\u001B[38;5;124m'\u001B[39m\u001B[38;5;124minflation adjusted\u001B[39m\u001B[38;5;124m'\u001B[39m] \u001B[38;5;241m=\u001B[39m gas[\u001B[38;5;124m'\u001B[39m\u001B[38;5;124mWeekly U.S. All Grades Conventional Retail Gasoline Prices Dollars per Gallon\u001B[39m\u001B[38;5;124m'\u001B[39m]\u001B[38;5;241m.\u001B[39mdiv(cpi[\u001B[38;5;124m'\u001B[39m\u001B[38;5;124mCPIAUCSL\u001B[39m\u001B[38;5;124m'\u001B[39m]\u001B[38;5;241m.\u001B[39mapply(\u001B[38;5;28;01mlambda\u001B[39;00m x: cpi[\u001B[38;5;124m'\u001B[39m\u001B[38;5;124mCPIAUCSL\u001B[39m\u001B[38;5;124m'\u001B[39m]\u001B[38;5;241m.\u001B[39mloc[\u001B[43mnearest_date\u001B[49m\u001B[43m(\u001B[49m\u001B[43mx\u001B[49m\u001B[43m,\u001B[49m\u001B[43m \u001B[49m\u001B[43mcpi\u001B[49m\u001B[38;5;241;43m.\u001B[39;49m\u001B[43mindex\u001B[49m\u001B[43m)\u001B[49m]))\n",
      "Cell \u001B[1;32mIn[79], line 17\u001B[0m, in \u001B[0;36mnearest_date\u001B[1;34m(target_date, date_series)\u001B[0m\n\u001B[0;32m      6\u001B[0m \u001B[38;5;28;01mdef\u001B[39;00m \u001B[38;5;21mnearest_date\u001B[39m(target_date, date_series):\n\u001B[0;32m      7\u001B[0m     \u001B[38;5;124;03m\"\"\"\u001B[39;00m\n\u001B[0;32m      8\u001B[0m \u001B[38;5;124;03m    Find the date in the series that is closest to the target date.\u001B[39;00m\n\u001B[0;32m      9\u001B[0m \n\u001B[1;32m   (...)\u001B[0m\n\u001B[0;32m     15\u001B[0m \u001B[38;5;124;03m      str: The date in the series that is closest to the target date.\u001B[39;00m\n\u001B[0;32m     16\u001B[0m \u001B[38;5;124;03m    \"\"\"\u001B[39;00m\n\u001B[1;32m---> 17\u001B[0m     target_datetime \u001B[38;5;241m=\u001B[39m \u001B[43mdatetime\u001B[49m\u001B[38;5;241;43m.\u001B[39;49m\u001B[43mstrptime\u001B[49m\u001B[43m(\u001B[49m\u001B[43mtarget_date\u001B[49m\u001B[43m,\u001B[49m\u001B[43m \u001B[49m\u001B[38;5;124;43m'\u001B[39;49m\u001B[38;5;124;43m%\u001B[39;49m\u001B[38;5;124;43mY-\u001B[39;49m\u001B[38;5;124;43m%\u001B[39;49m\u001B[38;5;124;43mm-\u001B[39;49m\u001B[38;5;132;43;01m%d\u001B[39;49;00m\u001B[38;5;124;43m'\u001B[39;49m\u001B[43m)\u001B[49m\n\u001B[0;32m     18\u001B[0m     date_differences \u001B[38;5;241m=\u001B[39m [(datetime\u001B[38;5;241m.\u001B[39mstrptime(date, \u001B[38;5;124m'\u001B[39m\u001B[38;5;124m%\u001B[39m\u001B[38;5;124mY-\u001B[39m\u001B[38;5;124m%\u001B[39m\u001B[38;5;124mm-\u001B[39m\u001B[38;5;132;01m%d\u001B[39;00m\u001B[38;5;124m'\u001B[39m) \u001B[38;5;241m-\u001B[39m target_datetime)\u001B[38;5;241m.\u001B[39mdays \u001B[38;5;28;01mfor\u001B[39;00m date \u001B[38;5;129;01min\u001B[39;00m date_series]\n\u001B[0;32m     19\u001B[0m     closest_index \u001B[38;5;241m=\u001B[39m \u001B[38;5;28mmin\u001B[39m(\u001B[38;5;28mrange\u001B[39m(\u001B[38;5;28mlen\u001B[39m(date_differences)), key\u001B[38;5;241m=\u001B[39m\u001B[38;5;28;01mlambda\u001B[39;00m i: \u001B[38;5;28mabs\u001B[39m(date_differences[i]))\n",
      "\u001B[1;31mTypeError\u001B[0m: strptime() argument 1 must be str, not float"
     ]
    }
   ],
   "source": [
    "\"\"\"import the gas timeseries from the gas tab of Data.xlsx\"\"\"\n",
    "gas = pd.read_excel('../data/data.xlsx', sheet_name='Gas', index_col=0)\n",
    "\"\"\"import cpi data\"\"\"\n",
    "cpi = pd.read_excel('../data/data.xlsx', sheet_name='CPI', index_col=0)\n",
    "\"\"\"convert cpi to weekly series and interpolate\"\"\"\n",
    "cpi = cpi.resample('W').interpolate()\n",
    "\n",
    "\"\"\"inflation adjust gas prices with nearest cpi\"\"\"\n",
    "[]"
   ],
   "metadata": {
    "collapsed": false
   }
  },
  {
   "cell_type": "code",
   "execution_count": 64,
   "outputs": [
    {
     "data": {
      "text/plain": "                                                        mean       std    min  \\\nWeekly U.S. All Grades Conventional Retail Gaso...  3.588577  0.469003  3.005   \n\n                                                      max  std month  \\\nWeekly U.S. All Grades Conventional Retail Gaso...  4.916   0.068447   \n\n                                                    std year  avg week move  \nWeekly U.S. All Grades Conventional Retail Gaso...  0.236274       0.062883  ",
      "text/html": "<div>\n<style scoped>\n    .dataframe tbody tr th:only-of-type {\n        vertical-align: middle;\n    }\n\n    .dataframe tbody tr th {\n        vertical-align: top;\n    }\n\n    .dataframe thead th {\n        text-align: right;\n    }\n</style>\n<table border=\"1\" class=\"dataframe\">\n  <thead>\n    <tr style=\"text-align: right;\">\n      <th></th>\n      <th>mean</th>\n      <th>std</th>\n      <th>min</th>\n      <th>max</th>\n      <th>std month</th>\n      <th>std year</th>\n      <th>avg week move</th>\n    </tr>\n  </thead>\n  <tbody>\n    <tr>\n      <th>Weekly U.S. All Grades Conventional Retail Gasoline Prices Dollars per Gallon</th>\n      <td>3.588577</td>\n      <td>0.469003</td>\n      <td>3.005</td>\n      <td>4.916</td>\n      <td>0.068447</td>\n      <td>0.236274</td>\n      <td>0.062883</td>\n    </tr>\n  </tbody>\n</table>\n</div>"
     },
     "execution_count": 64,
     "metadata": {},
     "output_type": "execute_result"
    }
   ],
   "source": [
    "\"\"\"get some basic stats and put them in a frame for display\"\"\"\n",
    "gas_stats = pd.DataFrame()\n",
    "gas_stats['mean'] = gas.mean()\n",
    "gas_stats['std'] = gas.std()\n",
    "gas_stats['min'] = gas.min()\n",
    "gas_stats['max'] = gas.max()\n",
    "\"\"\"monthly standard deviation\"\"\"\n",
    "gas_stats['std month'] = gas.resample('M').std().mean()\n",
    "\"\"\"annual standard deviation\"\"\"\n",
    "gas_stats['std year'] = gas.resample('Y').std().mean()\n",
    "\"\"\"average weekly move\"\"\"\n",
    "gas_stats['avg week move'] = gas.resample('W').mean().diff().abs().mean()\n",
    "\n",
    "gas_stats"
   ],
   "metadata": {
    "collapsed": false
   }
  },
  {
   "cell_type": "code",
   "execution_count": 68,
   "outputs": [
    {
     "data": {
      "text/plain": "                                                        mean       std    min  \\\nWeekly U.S. All Grades Conventional Retail Gaso... -0.005058  0.090316 -0.477   \n\n                                                      max  std month  \\\nWeekly U.S. All Grades Conventional Retail Gaso...  0.166   0.060765   \n\n                                                    std year  avg week move  \nWeekly U.S. All Grades Conventional Retail Gaso...  0.068546       0.053157  ",
      "text/html": "<div>\n<style scoped>\n    .dataframe tbody tr th:only-of-type {\n        vertical-align: middle;\n    }\n\n    .dataframe tbody tr th {\n        vertical-align: top;\n    }\n\n    .dataframe thead th {\n        text-align: right;\n    }\n</style>\n<table border=\"1\" class=\"dataframe\">\n  <thead>\n    <tr style=\"text-align: right;\">\n      <th></th>\n      <th>mean</th>\n      <th>std</th>\n      <th>min</th>\n      <th>max</th>\n      <th>std month</th>\n      <th>std year</th>\n      <th>avg week move</th>\n    </tr>\n  </thead>\n  <tbody>\n    <tr>\n      <th>Weekly U.S. All Grades Conventional Retail Gasoline Prices Dollars per Gallon</th>\n      <td>-0.005058</td>\n      <td>0.090316</td>\n      <td>-0.477</td>\n      <td>0.166</td>\n      <td>0.060765</td>\n      <td>0.068546</td>\n      <td>0.053157</td>\n    </tr>\n  </tbody>\n</table>\n</div>"
     },
     "execution_count": 68,
     "metadata": {},
     "output_type": "execute_result"
    }
   ],
   "source": [
    "\"\"\"make diffs\"\"\"\n",
    "gas_diff = gas.diff()\n",
    "\n",
    "gas_diff_stats = pd.DataFrame()\n",
    "\n",
    "\"\"\"add some basic stats about the differences\"\"\"\n",
    "gas_diff_stats['mean'] = gas_diff.mean()\n",
    "gas_diff_stats['std'] = gas_diff.std()\n",
    "gas_diff_stats['min'] = gas_diff.min()\n",
    "gas_diff_stats['max'] = gas_diff.max()\n",
    "gas_diff_stats['std month'] = gas_diff.resample('M').std().mean()\n",
    "gas_diff_stats['std year'] = gas_diff.resample('Y').std().mean()\n",
    "gas_diff_stats['avg week move'] = gas_diff.resample('W').mean().diff().abs().mean()\n",
    "\n",
    "gas_diff_stats"
   ],
   "metadata": {
    "collapsed": false
   }
  },
  {
   "cell_type": "code",
   "execution_count": 69,
   "outputs": [
    {
     "data": {
      "text/plain": "array([[<AxesSubplot: title={'center': 'Weekly U.S. All Grades Conventional Retail Gasoline Prices Dollars per Gallon'}>]],\n      dtype=object)"
     },
     "execution_count": 69,
     "metadata": {},
     "output_type": "execute_result"
    },
    {
     "data": {
      "text/plain": "<Figure size 640x480 with 1 Axes>",
      "image/png": "[encoded data removed]"
     },
     "metadata": {},
     "output_type": "display_data"
    }
   ],
   "source": [
    "\"\"\"get a hist of the diffs\"\"\"\n",
    "gas_diff.hist(bins=100)"
   ],
   "metadata": {
    "collapsed": false
   }
  },
  {
   "cell_type": "code",
   "execution_count": 70,
   "outputs": [
    {
     "data": {
      "text/plain": "Weekly U.S. All Grades Conventional Retail Gasoline Prices Dollars per Gallon    0.144231\ndtype: float64"
     },
     "execution_count": 70,
     "metadata": {},
     "output_type": "execute_result"
    }
   ],
   "source": [
    "\"\"\"percent of diffs over +.03\"\"\"\n",
    "(gas_diff < -.076).sum() / len(gas_diff)\n"
   ],
   "metadata": {
    "collapsed": false
   }
  },
  {
   "cell_type": "code",
   "execution_count": null,
   "outputs": [],
   "source": [],
   "metadata": {
    "collapsed": false
   }
  }
 ],
 "metadata": {
  "kernelspec": {
   "display_name": "Python 3",
   "language": "python",
   "name": "python3"
  },
  "language_info": {
   "codemirror_mode": {
    "name": "ipython",
    "version": 2
   },
   "file_extension": ".py",
   "mimetype": "text/x-python",
   "name": "python",
   "nbconvert_exporter": "python",
   "pygments_lexer": "ipython2",
   "version": "2.7.6"
  }
 },
 "nbformat": 4,
 "nbformat_minor": 0
}
