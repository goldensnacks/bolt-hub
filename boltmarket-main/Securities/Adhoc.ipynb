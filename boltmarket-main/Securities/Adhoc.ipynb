{
 "cells": [
  {
   "cell_type": "code",
   "execution_count": 1,
   "outputs": [
    {
     "name": "stdout",
     "output_type": "stream",
     "text": [
      "####################################################################\n",
      "# FINANCEPY BETA Version 0.300 - This build:  29 May 2023 at 11:50 #\n",
      "#     This software is distributed FREE AND WITHOUT ANY WARRANTY   #\n",
      "#  Report bugs as issues at https://github.com/domokane/FinancePy  #\n",
      "####################################################################\n",
      "\n"
     ]
    }
   ],
   "source": [
    "import pickle\n",
    "import sys\n",
    "import os\n",
    "from Securities import Security\n",
    "# Add the parent directory (my_project) to the Python path\n",
    "sys.path.append(os.path.abspath(os.path.join(os.path.dirname('boltmarket-main'), '..')))\n",
    "from Tradables import Underlier\n",
    "from Securities import Security, get_security\n",
    "from gs_quant.session import GsSession\n",
    "import pandas as pd\n",
    "import os\n",
    "import yfinance as yf\n",
    "from datetime import datetime, timedelta\n",
    "date_offsets = {\n",
    "    '1D': timedelta(days=1),\n",
    "    '1W': timedelta(weeks=1),\n",
    "    '2W': timedelta(weeks=2),\n",
    "    '3W': timedelta(weeks=3),\n",
    "    '1M': timedelta(days=30),\n",
    "    '2M': timedelta(days=60),\n",
    "    '3M': timedelta(days=90),\n",
    "    '6M': timedelta(days=180),\n",
    "    '9M': timedelta(days=270),\n",
    "    '1Y': timedelta(days=365),\n",
    "    'Overnight': timedelta(days=1),\n",
    "    'Tomorrow Next': timedelta(days=1),\n",
    "    'Spot Next': timedelta(days=2),\n",
    "    'One Week': timedelta(weeks=1),\n",
    "    'Two Weeks': timedelta(weeks=2),\n",
    "    'Three Weeks': timedelta(weeks=3),\n",
    "    'One Month': timedelta(days=30),\n",
    "    'Two Months': timedelta(days=60),\n",
    "    'Three Months': timedelta(days=90),\n",
    "    'Four Months': timedelta(days=120),\n",
    "    'Five Months': timedelta(days=150),\n",
    "    'Six Months': timedelta(days=180),\n",
    "    'Seven Months': timedelta(days=210),\n",
    "    'Eight Months': timedelta(days=240),\n",
    "    'Nine Months': timedelta(days=270),\n",
    "    'Ten Months': timedelta(days=300),\n",
    "    'Eleven Months': timedelta(days=330),\n",
    "    'One Year': timedelta(days=365),\n",
    "    'Two Years': timedelta(days=730),\n",
    "    'Three Years': timedelta(days=1095),\n",
    "    'Four Years': timedelta(days=1460),\n",
    "    'Five Years': timedelta(days=1825),\n",
    "    'Six Years': timedelta(days=2190),\n",
    "    'Seven Years': timedelta(days=2555),\n",
    "    'Ten Years': timedelta(days=3650),\n",
    "}\n",
    "\n",
    "\n",
    "\"\"\"use excel wings to load surface from EURUSD Risk&Marks\"\"\"\n",
    "guipath = os.path.abspath('C:\\\\Users\\\\jacob\\\\bolt-hub\\\\GUI.xlsx')\n",
    "marks = pd.read_excel(guipath, sheet_name=\"EURUSD Risks&Marks\")\n",
    "\n",
    "\n",
    "\n",
    "def save_security(sec):\n",
    "    \"\"\"save security to pickle in the securities folder\"\"\"\n",
    "    with open(f\"Securities/{sec.name}.pkl\", \"wb\") as f:\n",
    "        pickle.dump(sec, f)\n",
    "\n",
    "def get_intraday_weighting():\n",
    "    ticker_symbol = 'EURUSD=X'\n",
    "    start_date = '2022-01-01'\n",
    "    end_date = '2023-06-01'\n",
    "    # Get the data from Yahoo Finance\n",
    "    data = yf.download(ticker_symbol, start=start_date, end=end_date, interval=\"1h\")\n",
    "\n",
    "    # Extract the open and close prices by hour\n",
    "    hourly_data = data[['Open', 'Close']].resample('H').last()\n",
    "\n",
    "    \"\"\"create a column representing hour of the day\"\"\"\n",
    "    hourly_data['Hour'] = hourly_data.index.hour\n",
    "    \"\"\"create a column representing change in price from previous hour\"\"\"\n",
    "    hourly_data['Change'] = abs(hourly_data['Open']-hourly_data['Close'])/hourly_data['Open']\n",
    "\n",
    "    \"\"\"group by hour and calculate mean change\"\"\"\n",
    "    hourly_data = hourly_data.groupby('Hour')['Change'].mean()\n",
    "    return hourly_data\n",
    "\n",
    "def extract_forward_curve(marks):\n",
    "    \"\"\"extract forward curve\"\"\"\n",
    "    fwd = marks.drop(index=range(5))\n",
    "    last_row_index = fwd.index[-31]\n",
    "    # Select all rows up to and including the last 31st row, and assign it back to the dataframe\n",
    "    fwd = fwd.iloc[:last_row_index+1, :]\n",
    "    fwd = fwd.iloc[:, :4]\n",
    "    fwd.iloc[1:, 0] = [date_offsets[tenor] for tenor in fwd.iloc[1:, 0]]\n",
    "    # get the values of the top row as a series\n",
    "    new_columns = fwd.iloc[0]\n",
    "    # assign the new column names to the dataframe\n",
    "    fwd.columns = new_columns\n",
    "    # drop the first row since it's no longer needed as column names\n",
    "    fwd = fwd.iloc[1:]\n",
    "    # set the index to the values in the first column by position\n",
    "    fwd = fwd.set_index(fwd.columns[0])\n",
    "    # drop the first column since it's now the index\n",
    "    fwd = fwd.drop(columns=[fwd.columns[0]])\n",
    "    fwd = fwd.rename_axis(index=None).rename_axis(columns=None)\n",
    "    fwd.drop('Bid', axis=1, inplace=True)\n",
    "    return fwd\n",
    "\n",
    "def extract_vol_surface(marks):\n",
    "    \"\"\"extract vol surface\"\"\"\n",
    "    vols = marks.drop(index=range(33))\n",
    "    vols = vols.iloc[0:, :18]\n",
    "    # get the values of the top row as a series\n",
    "    new_columns = [5,10,15,20,25,30,35,40,45,50,-40,-35,-30,-25,-20,-15,-10,-5]\n",
    "    # assign the new column names to the dataframe\n",
    "    vols.columns = new_columns\n",
    "    # drop the first row since it's no longer needed as column names\n",
    "    vols = vols.iloc[1:]\n",
    "    # set the index to the values in the first column by position\n",
    "    vols = vols.set_index(vols.columns[0])\n",
    "    # drop the first column since it's now the index\n",
    "    vols = vols.drop(columns=[vols.columns[0]])\n",
    "    vols = vols.rename_axis(index=None).rename_axis(columns=None)\n",
    "    new_index = [date_offsets[tenor] for tenor in vols.index]\n",
    "    vols.set_index(pd.Index(new_index), inplace=True)\n",
    "    return vols\n"
   ],
   "metadata": {
    "collapsed": false
   }
  },
  {
   "cell_type": "code",
   "execution_count": 2,
   "outputs": [
    {
     "name": "stdout",
     "output_type": "stream",
     "text": [
      "[*********************100%***********************]  1 of 1 completed\n"
     ]
    }
   ],
   "source": [
    "eurusd = Underlier()\n",
    "eurusd.load_forward_curve(extract_forward_curve(marks))\n",
    "eurusd.load_vol_surface(extract_vol_surface(marks))\n",
    "eurusd.mark_spot(1.0935)\n",
    "eurusd.load_intraday_weights(get_intraday_weighting())\n",
    "\n",
    "sec = Security('EURUSD', eurusd)\n",
    "sec.save()\n"
   ],
   "metadata": {
    "collapsed": false
   }
  },
  {
   "cell_type": "code",
   "execution_count": 3,
   "outputs": [],
   "source": [
    "sec = pickle.load(open('EURUSD.pkl', 'rb'))"
   ],
   "metadata": {
    "collapsed": false
   }
  }
 ],
 "metadata": {
  "kernelspec": {
   "display_name": "Python 3",
   "language": "python",
   "name": "python3"
  },
  "language_info": {
   "codemirror_mode": {
    "name": "ipython",
    "version": 2
   },
   "file_extension": ".py",
   "mimetype": "text/x-python",
   "name": "python",
   "nbconvert_exporter": "python",
   "pygments_lexer": "ipython2",
   "version": "2.7.6"
  }
 },
 "nbformat": 4,
 "nbformat_minor": 0
}
