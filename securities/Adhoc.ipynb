{
 "cells": [
  {
   "cell_type": "code",
   "execution_count": 13,
   "outputs": [],
   "source": [
    "import os\n",
    "import pickle\n",
    "from datetime import timedelta\n",
    "\n",
    "import pandas as pd\n",
    "from Securities import Security\n",
    "from Tradables.Tradables import Underlier, MarketTable\n"
   ],
   "metadata": {
    "collapsed": false
   }
  },
  {
   "cell_type": "code",
   "execution_count": 33,
   "outputs": [],
   "source": [
    "eurusd = Underlier()\n",
    "eurusd.mark_spot(1.0935)\n",
    "\n",
    "sec = Security('EURUSD', eurusd)\n",
    "sec.save()"
   ],
   "metadata": {
    "collapsed": false
   }
  },
  {
   "cell_type": "code",
   "execution_count": 4,
   "outputs": [
    {
     "ename": "NameError",
     "evalue": "name 'Security' is not defined",
     "output_type": "error",
     "traceback": [
      "\u001B[1;31m---------------------------------------------------------------------------\u001B[0m",
      "\u001B[1;31mNameError\u001B[0m                                 Traceback (most recent call last)",
      "Cell \u001B[1;32mIn[4], line 4\u001B[0m\n\u001B[0;32m      1\u001B[0m usdjpy \u001B[38;5;241m=\u001B[39m Underlier()\n\u001B[0;32m      2\u001B[0m usdjpy\u001B[38;5;241m.\u001B[39mmark_spot(\u001B[38;5;241m145\u001B[39m)\n\u001B[1;32m----> 4\u001B[0m sec \u001B[38;5;241m=\u001B[39m \u001B[43mSecurity\u001B[49m(\u001B[38;5;124m'\u001B[39m\u001B[38;5;124mUSDJPY\u001B[39m\u001B[38;5;124m'\u001B[39m, usdjpy)\n\u001B[0;32m      5\u001B[0m sec\u001B[38;5;241m.\u001B[39msave()\n",
      "\u001B[1;31mNameError\u001B[0m: name 'Security' is not defined"
     ]
    }
   ],
   "source": [
    "usdjpy = Underlier()\n",
    "usdjpy.mark_spot(145)\n",
    "\n",
    "sec = Security('USDJPY', usdjpy)\n",
    "sec.save()\n"
   ],
   "metadata": {
    "collapsed": false
   }
  },
  {
   "cell_type": "code",
   "execution_count": 35,
   "outputs": [],
   "source": [
    "products = MarketTable(pd.DataFrame())\n",
    "Security('Tradables', products).save()"
   ],
   "metadata": {
    "collapsed": false
   }
  },
  {
   "cell_type": "code",
   "execution_count": null,
   "outputs": [],
   "source": [
    "sec = pickle.load(open('EURUSD.pkl', 'rb'))"
   ],
   "metadata": {
    "collapsed": false
   }
  },
  {
   "cell_type": "code",
   "execution_count": 2,
   "outputs": [],
   "source": [
    "import yfinance as yf\n",
    "import pandas as pd\n",
    "\n",
    "def get_hourly_eurusd_data():\n",
    "    # Define the ticker symbol for EUR/USD\n",
    "    ticker = 'EURUSD=X'\n",
    "\n",
    "    # Define the start and end date for the data\n",
    "    start_date = '2022-09-01'\n",
    "    end_date = '2023-08-01'\n",
    "\n",
    "    # Fetch daily EUR/USD data from Yahoo Finance\n",
    "    data = yf.download(ticker, start=start_date, end=end_date, progress=False, interval='1h')\n",
    "    return data\n",
    "\n",
    "data = get_hourly_eurusd_data()"
   ],
   "metadata": {
    "collapsed": false
   }
  },
  {
   "cell_type": "markdown",
   "source": [],
   "metadata": {
    "collapsed": false
   }
  },
  {
   "cell_type": "code",
   "execution_count": 3,
   "outputs": [],
   "source": [
    "data['change'] = abs(data['Close'] - data['Open'])\n",
    "data['hour'] = data.index.hour\n",
    "by_hour = data.groupby('hour')['change'].mean()\n"
   ],
   "metadata": {
    "collapsed": false
   }
  },
  {
   "cell_type": "code",
   "execution_count": 4,
   "outputs": [],
   "source": [
    "(by_hour.cumsum()/by_hour.cumsum().max()).to_csv('intraday_weighting.csv')\n"
   ],
   "metadata": {
    "collapsed": false
   }
  },
  {
   "cell_type": "code",
   "execution_count": null,
   "outputs": [],
   "source": [],
   "metadata": {
    "collapsed": false
   }
  }
 ],
 "metadata": {
  "kernelspec": {
   "display_name": "Python 3",
   "language": "python",
   "name": "python3"
  },
  "language_info": {
   "codemirror_mode": {
    "name": "ipython",
    "version": 2
   },
   "file_extension": ".py",
   "mimetype": "text/x-python",
   "name": "python",
   "nbconvert_exporter": "python",
   "pygments_lexer": "ipython2",
   "version": "2.7.6"
  }
 },
 "nbformat": 4,
 "nbformat_minor": 0
}
